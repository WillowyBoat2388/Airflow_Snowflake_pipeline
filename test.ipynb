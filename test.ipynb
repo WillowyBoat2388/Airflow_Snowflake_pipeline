{
 "cells": [
  {
   "cell_type": "code",
   "execution_count": 1,
   "metadata": {},
   "outputs": [],
   "source": [
    "import json\n",
    "import requests"
   ]
  },
  {
   "cell_type": "code",
   "execution_count": 2,
   "metadata": {},
   "outputs": [],
   "source": [
    "def json_scraper(url, file_name, bucket):\n",
    "    print('start running')\n",
    "    response = requests.request(\"GET\", url)\n",
    "    json_data=response.json()\n",
    "\n",
    "    with open(file_name, 'w', encoding='utf-8') as json_file:\n",
    "        json.dump(json_data, json_file, ensure_ascii=False, indent=4)\n",
    "\n",
    "\n",
    "    print('end running')\n",
    "    #s3 = boto3.client('s3')\n",
    "    #s3.upload_file(file_name, bucket,f\"predictit/{file_name})"
   ]
  },
  {
   "cell_type": "code",
   "execution_count": 3,
   "metadata": {},
   "outputs": [
    {
     "name": "stdout",
     "output_type": "stream",
     "text": [
      "start running\n",
      "end running\n"
     ]
    }
   ],
   "source": [
    "json_scraper(\"https://www.predictit.org/api/marketdata/all/\", \"predictit_market.json\", \"real_estate_data\")"
   ]
  },
  {
   "cell_type": "code",
   "execution_count": null,
   "metadata": {},
   "outputs": [],
   "source": []
  }
 ],
 "metadata": {
  "kernelspec": {
   "display_name": "base",
   "language": "python",
   "name": "python3"
  },
  "language_info": {
   "codemirror_mode": {
    "name": "ipython",
    "version": 3
   },
   "file_extension": ".py",
   "mimetype": "text/x-python",
   "name": "python",
   "nbconvert_exporter": "python",
   "pygments_lexer": "ipython3",
   "version": "3.8.13"
  },
  "orig_nbformat": 4
 },
 "nbformat": 4,
 "nbformat_minor": 2
}
